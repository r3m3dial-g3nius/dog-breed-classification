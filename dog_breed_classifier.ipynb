{
  "nbformat": 4,
  "nbformat_minor": 0,
  "metadata": {
    "colab": {
      "provenance": [],
      "authorship_tag": "ABX9TyPSkPgUrulG2gpdRCj+8RNA",
      "include_colab_link": true
    },
    "kernelspec": {
      "name": "python3",
      "display_name": "Python 3"
    },
    "language_info": {
      "name": "python"
    }
  },
  "cells": [
    {
      "cell_type": "markdown",
      "metadata": {
        "id": "view-in-github",
        "colab_type": "text"
      },
      "source": [
        "<a href=\"https://colab.research.google.com/github/r3m3dial-g3nius/dog-breed-classification/blob/main/dog_breed_classifier.ipynb\" target=\"_parent\"><img src=\"https://colab.research.google.com/assets/colab-badge.svg\" alt=\"Open In Colab\"/></a>"
      ]
    },
    {
      "cell_type": "markdown",
      "source": [],
      "metadata": {
        "id": "fcXCu9RwGkng"
      }
    },
    {
      "cell_type": "markdown",
      "source": [
        "# Multi Class Dog Breed Classification\n",
        "This notebook builds an end=to=end multiclass image classifier using TensorFlow 2.0 and TensorFlow Hub\n",
        "\n",
        "## 1. Problem\n",
        "\n",
        "Identify the breed of a dog in an image\n",
        "\n",
        "## 2. Data\n",
        "\n",
        "The data used is from Kaggle's dog breed identification competition.\n",
        "https://www.haggle.com/c/dog-breed-identification/data\n",
        "\n",
        "## 3. Evaluation\n",
        "\n",
        "The evaluation is a file with prediction probabilities for each dog breed of each test image.\n",
        "https://www.kaggle.com/c/dog-breed-identification/overview/evaluation\n",
        "\n",
        "## 4. Features\n",
        "\n",
        "Info about the data:\n",
        "\n",
        "* 20,000+ images (unstructured data)\n",
        "* Multiclass identification (120 classes)\n",
        "* 10,000+ images in the training set (labelled)\n",
        "* 10,000+ images in the test set (not labeled)\n"
      ],
      "metadata": {
        "id": "L54-qTo6o0Or"
      }
    },
    {
      "cell_type": "code",
      "source": [
        "# Unzip the uploaded data into Google Drive\n",
        "\n",
        "#!unzip \"/content/drive/MyDrive/Colab Notebooks/dog-breed-classifier/dog-breed-identification\""
      ],
      "metadata": {
        "id": "w_tYUL13Mv4v"
      },
      "execution_count": 14,
      "outputs": []
    },
    {
      "cell_type": "markdown",
      "source": [
        "# Get workspace ready"
      ],
      "metadata": {
        "id": "_-yebkcGsQor"
      }
    },
    {
      "cell_type": "code",
      "source": [
        "# Import TensorFlow into Colab\n",
        "import tensorflow as tf\n",
        "print(\"TF version: \", )"
      ],
      "metadata": {
        "id": "rGo4HA-5sINf"
      },
      "execution_count": 16,
      "outputs": []
    },
    {
      "cell_type": "code",
      "source": [],
      "metadata": {
        "id": "klDM11eysMGo"
      },
      "execution_count": null,
      "outputs": []
    },
    {
      "cell_type": "code",
      "execution_count": 15,
      "metadata": {
        "id": "HccIHYvpGOEx"
      },
      "outputs": [],
      "source": [
        "import pandas as pd\n",
        "import numpy as np"
      ]
    },
    {
      "cell_type": "code",
      "source": [],
      "metadata": {
        "id": "Nfy2CNuQsVx5"
      },
      "execution_count": null,
      "outputs": []
    }
  ]
}